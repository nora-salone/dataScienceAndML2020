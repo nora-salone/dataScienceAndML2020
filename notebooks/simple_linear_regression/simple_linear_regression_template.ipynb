{
 "cells": [
  {
   "cell_type": "markdown",
   "metadata": {},
   "source": [
    "\n",
    "Template for implementation of the simple linear regression.\n",
    "The code serves only for educational purposes so it\n",
    "is not optimized in view of speed or numerical calculations.\n",
    "For the real problems you should always use algorithms\n",
    "from known,  well tested libraries, wherever possible.\n",
    "\n",
    "Author: Wojtek Krzemien\n",
    "\n",
    "Date: 23.03 2018\n"
   ]
  },
  {
   "cell_type": "code",
   "execution_count": 1,
   "metadata": {},
   "outputs": [],
   "source": [
    "import numpy as np\n",
    "import matplotlib.pyplot as plt\n",
    "\n",
    "%matplotlib inline"
   ]
  },
  {
   "cell_type": "code",
   "execution_count": 2,
   "metadata": {},
   "outputs": [],
   "source": [
    "FILE_NAME = '../../datasets/data1.csv'"
   ]
  },
  {
   "cell_type": "code",
   "execution_count": 3,
   "metadata": {},
   "outputs": [],
   "source": [
    "# functions operating on 'normal' lists\n",
    "# without using any additional functions.\n",
    "\n",
    "class MySimpleLinearRegression():\n",
    "  def __init__(self):\n",
    "    self._theta = [0, 0]\n",
    "\n",
    "  def fit(self, X, Y):\n",
    "    \"\"\"\n",
    "      Args:\n",
    "        X(list): vector of numbers X^{i} i=1,...,N from the training set.\n",
    "        Y(list): vector of numbers Y^{i} i=1,...,N from the training set.\n",
    "      Returns:\n",
    "        list: with parameters [theta0, theta1]\n",
    "    \"\"\"\n",
    "    return [0, 0] #IMPLEMENT YOUR CODE HERE\n",
    "\n",
    "  def getParams(self):\n",
    "    \"\"\"\n",
    "      Returns:\n",
    "        list: with parameters [theta0, theta1]\n",
    "    \"\"\"\n",
    "    return self._theta\n",
    "\n",
    "  def predict(self, x):\n",
    "    \"\"\"\n",
    "      Args:\n",
    "        x(number)\n",
    "      Returns:\n",
    "       float:  y prediction\n",
    "    \"\"\"\n",
    "    return 0 #IMPLEMENT YOUR CODE HERE"
   ]
  },
  {
   "cell_type": "code",
   "execution_count": 4,
   "metadata": {
    "code_folding": []
   },
   "outputs": [],
   "source": [
    "def runTests_MySimpleLinearRegression():\n",
    "  \"\"\"\n",
    "    Some examples how one can test your functions.\n",
    "  \"\"\"\n",
    "  model = MySimpleLinearRegression()\n",
    "  # y= 2 *x -4 no noise\n",
    "  x = [0, 1, 2, 3]\n",
    "  y = [-4., -2, 0, 2]\n",
    "  model.fit(x, y)\n",
    "  params = model.getParams()\n",
    "  np.testing.assert_almost_equal(params[0], -4.)\n",
    "  np.testing.assert_almost_equal(params[1], 2.)\n",
    "  np.testing.assert_almost_equal(model.predict(7), 10.)\n"
   ]
  },
  {
   "cell_type": "code",
   "execution_count": 5,
   "metadata": {},
   "outputs": [],
   "source": [
    "def loadData(filename):\n",
    "  # We use skiprows=1 to ignore the first line in the file\n",
    "  # which is just a description of columns.\n",
    "  data = np.loadtxt(filename, delimiter=',', skiprows=1)\n",
    "  # data matrix has three columns,\n",
    "  # the third one is the dataset label =0,1,2 or 3.\n",
    "  # We want to select only a subset of data corresponding to given label.\n",
    "  # data[:,2] means select all rows of the third column.\n",
    "  # data[data[:,2]== 0] means select all records for wich the third column is equal 0.\n",
    "  dataset1 = data[data[:, 2] == 0]\n",
    "  dataset2 = data[data[:, 2] == 1]\n",
    "  dataset3 = data[data[:, 2] == 2]\n",
    "  dataset4 = data[data[:, 2] == 3]\n",
    "  return (dataset1, dataset2, dataset3, dataset4)"
   ]
  },
  {
   "cell_type": "code",
   "execution_count": 6,
   "metadata": {},
   "outputs": [],
   "source": [
    "def plotData(data):\n",
    "  \"\"\"\n",
    "  \"\"\"\n",
    "  model = MySimpleLinearRegression()\n",
    "  model.fit(data[:, 0].tolist(), data[:, 1].tolist())\n",
    "  yPredicted = [model.predict(x) for x in data[:, 0].tolist()]\n",
    "  plt.scatter(data[:, 0], data[:, 1])\n",
    "  plt.plot(data[:, 0], yPredicted)\n",
    "  plt.xlim(2, 20)  # set axis X range\n",
    "  plt.ylim(2, 14)  # set axis Y range\n",
    "  plt.xlabel('x')\n",
    "  plt.ylabel('y')\n",
    "  plt.show()"
   ]
  },
  {
   "cell_type": "code",
   "execution_count": 8,
   "metadata": {},
   "outputs": [
    {
     "data": {
      "image/png": "[encoded data removed]",
      "text/plain": [
       "<Figure size 432x288 with 1 Axes>"
      ]
     },
     "metadata": {
      "needs_background": "light"
     },
     "output_type": "display_data"
    },
    {
     "data": {
      "image/png": "[encoded data removed]",
      "text/plain": [
       "<Figure size 432x288 with 1 Axes>"
      ]
     },
     "metadata": {
      "needs_background": "light"
     },
     "output_type": "display_data"
    },
    {
     "data": {
      "image/png": "[encoded data removed]",
      "text/plain": [
       "<Figure size 432x288 with 1 Axes>"
      ]
     },
     "metadata": {
      "needs_background": "light"
     },
     "output_type": "display_data"
    },
    {
     "data": {
      "image/png": "[encoded data removed]",
      "text/plain": [
       "<Figure size 432x288 with 1 Axes>"
      ]
     },
     "metadata": {
      "needs_background": "light"
     },
     "output_type": "display_data"
    }
   ],
   "source": [
    "datas = loadData(FILE_NAME)\n",
    "for d in datas:\n",
    "  plotData(d)"
   ]
  },
  {
   "cell_type": "code",
   "execution_count": null,
   "metadata": {},
   "outputs": [],
   "source": [
    "runTests_MySimpleLinearRegression()"
   ]
  }
 ],
 "metadata": {
  "kernelspec": {
   "display_name": "Python (j-pet-class)",
   "language": "python",
   "name": "j-pet-class"
  },
  "language_info": {
   "codemirror_mode": {
    "name": "ipython",
    "version": 3
   },
   "file_extension": ".py",
   "mimetype": "text/x-python",
   "name": "python",
   "nbconvert_exporter": "python",
   "pygments_lexer": "ipython3",
   "version": "3.6.10"
  }
 },
 "nbformat": 4,
 "nbformat_minor": 4
}
