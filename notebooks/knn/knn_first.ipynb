{
 "cells": [
  {
   "cell_type": "code",
   "execution_count": 87,
   "metadata": {},
   "outputs": [],
   "source": [
    "%matplotlib inline\n",
    "#standard imports \n",
    "import math\n",
    "import numpy as np\n",
    "import pandas as pd\n",
    "import matplotlib.pyplot as plt"
   ]
  },
  {
   "cell_type": "markdown",
   "metadata": {},
   "source": [
    "File available here: http://koza.if.uj.edu.pl/~krzemien/machine_learning2021/materials/datasets/iris_data.csv"
   ]
  },
  {
   "cell_type": "code",
   "execution_count": 4,
   "metadata": {},
   "outputs": [],
   "source": [
    "input_file = 'iris_data.csv'"
   ]
  },
  {
   "cell_type": "code",
   "execution_count": 6,
   "metadata": {},
   "outputs": [],
   "source": [
    "data = pd.read_csv(input_file)"
   ]
  },
  {
   "cell_type": "code",
   "execution_count": 7,
   "metadata": {},
   "outputs": [
    {
     "data": {
      "text/html": [
       "<div>\n",
       "<style scoped>\n",
       "    .dataframe tbody tr th:only-of-type {\n",
       "        vertical-align: middle;\n",
       "    }\n",
       "\n",
       "    .dataframe tbody tr th {\n",
       "        vertical-align: top;\n",
       "    }\n",
       "\n",
       "    .dataframe thead th {\n",
       "        text-align: right;\n",
       "    }\n",
       "</style>\n",
       "<table border=\"1\" class=\"dataframe\">\n",
       "  <thead>\n",
       "    <tr style=\"text-align: right;\">\n",
       "      <th></th>\n",
       "      <th>sepal_length</th>\n",
       "      <th>sepal_width</th>\n",
       "      <th>petal_length</th>\n",
       "      <th>petal_width</th>\n",
       "      <th>species</th>\n",
       "    </tr>\n",
       "  </thead>\n",
       "  <tbody>\n",
       "    <tr>\n",
       "      <th>0</th>\n",
       "      <td>5.1</td>\n",
       "      <td>3.5</td>\n",
       "      <td>1.4</td>\n",
       "      <td>0.2</td>\n",
       "      <td>Iris-setosa</td>\n",
       "    </tr>\n",
       "    <tr>\n",
       "      <th>1</th>\n",
       "      <td>4.9</td>\n",
       "      <td>3.0</td>\n",
       "      <td>1.4</td>\n",
       "      <td>0.2</td>\n",
       "      <td>Iris-setosa</td>\n",
       "    </tr>\n",
       "    <tr>\n",
       "      <th>2</th>\n",
       "      <td>4.7</td>\n",
       "      <td>3.2</td>\n",
       "      <td>1.3</td>\n",
       "      <td>0.2</td>\n",
       "      <td>Iris-setosa</td>\n",
       "    </tr>\n",
       "    <tr>\n",
       "      <th>3</th>\n",
       "      <td>4.6</td>\n",
       "      <td>3.1</td>\n",
       "      <td>1.5</td>\n",
       "      <td>0.2</td>\n",
       "      <td>Iris-setosa</td>\n",
       "    </tr>\n",
       "    <tr>\n",
       "      <th>4</th>\n",
       "      <td>5.0</td>\n",
       "      <td>3.6</td>\n",
       "      <td>1.4</td>\n",
       "      <td>0.2</td>\n",
       "      <td>Iris-setosa</td>\n",
       "    </tr>\n",
       "  </tbody>\n",
       "</table>\n",
       "</div>"
      ],
      "text/plain": [
       "   sepal_length  sepal_width  petal_length  petal_width      species\n",
       "0           5.1          3.5           1.4          0.2  Iris-setosa\n",
       "1           4.9          3.0           1.4          0.2  Iris-setosa\n",
       "2           4.7          3.2           1.3          0.2  Iris-setosa\n",
       "3           4.6          3.1           1.5          0.2  Iris-setosa\n",
       "4           5.0          3.6           1.4          0.2  Iris-setosa"
      ]
     },
     "execution_count": 7,
     "metadata": {},
     "output_type": "execute_result"
    }
   ],
   "source": [
    "data.head()"
   ]
  },
  {
   "cell_type": "code",
   "execution_count": 8,
   "metadata": {},
   "outputs": [
    {
     "name": "stdout",
     "output_type": "stream",
     "text": [
      "<class 'pandas.core.frame.DataFrame'>\n",
      "RangeIndex: 150 entries, 0 to 149\n",
      "Data columns (total 5 columns):\n",
      "sepal_length    150 non-null float64\n",
      "sepal_width     150 non-null float64\n",
      "petal_length    150 non-null float64\n",
      "petal_width     150 non-null float64\n",
      "species         150 non-null object\n",
      "dtypes: float64(4), object(1)\n",
      "memory usage: 5.9+ KB\n"
     ]
    }
   ],
   "source": [
    "data.info()"
   ]
  },
  {
   "cell_type": "code",
   "execution_count": 9,
   "metadata": {},
   "outputs": [
    {
     "data": {
      "text/html": [
       "<div>\n",
       "<style scoped>\n",
       "    .dataframe tbody tr th:only-of-type {\n",
       "        vertical-align: middle;\n",
       "    }\n",
       "\n",
       "    .dataframe tbody tr th {\n",
       "        vertical-align: top;\n",
       "    }\n",
       "\n",
       "    .dataframe thead th {\n",
       "        text-align: right;\n",
       "    }\n",
       "</style>\n",
       "<table border=\"1\" class=\"dataframe\">\n",
       "  <thead>\n",
       "    <tr style=\"text-align: right;\">\n",
       "      <th></th>\n",
       "      <th>sepal_length</th>\n",
       "      <th>sepal_width</th>\n",
       "      <th>petal_length</th>\n",
       "      <th>petal_width</th>\n",
       "    </tr>\n",
       "  </thead>\n",
       "  <tbody>\n",
       "    <tr>\n",
       "      <th>count</th>\n",
       "      <td>150.000000</td>\n",
       "      <td>150.000000</td>\n",
       "      <td>150.000000</td>\n",
       "      <td>150.000000</td>\n",
       "    </tr>\n",
       "    <tr>\n",
       "      <th>mean</th>\n",
       "      <td>5.843333</td>\n",
       "      <td>3.054000</td>\n",
       "      <td>3.758667</td>\n",
       "      <td>1.198667</td>\n",
       "    </tr>\n",
       "    <tr>\n",
       "      <th>std</th>\n",
       "      <td>0.828066</td>\n",
       "      <td>0.433594</td>\n",
       "      <td>1.764420</td>\n",
       "      <td>0.763161</td>\n",
       "    </tr>\n",
       "    <tr>\n",
       "      <th>min</th>\n",
       "      <td>4.300000</td>\n",
       "      <td>2.000000</td>\n",
       "      <td>1.000000</td>\n",
       "      <td>0.100000</td>\n",
       "    </tr>\n",
       "    <tr>\n",
       "      <th>25%</th>\n",
       "      <td>5.100000</td>\n",
       "      <td>2.800000</td>\n",
       "      <td>1.600000</td>\n",
       "      <td>0.300000</td>\n",
       "    </tr>\n",
       "    <tr>\n",
       "      <th>50%</th>\n",
       "      <td>5.800000</td>\n",
       "      <td>3.000000</td>\n",
       "      <td>4.350000</td>\n",
       "      <td>1.300000</td>\n",
       "    </tr>\n",
       "    <tr>\n",
       "      <th>75%</th>\n",
       "      <td>6.400000</td>\n",
       "      <td>3.300000</td>\n",
       "      <td>5.100000</td>\n",
       "      <td>1.800000</td>\n",
       "    </tr>\n",
       "    <tr>\n",
       "      <th>max</th>\n",
       "      <td>7.900000</td>\n",
       "      <td>4.400000</td>\n",
       "      <td>6.900000</td>\n",
       "      <td>2.500000</td>\n",
       "    </tr>\n",
       "  </tbody>\n",
       "</table>\n",
       "</div>"
      ],
      "text/plain": [
       "       sepal_length  sepal_width  petal_length  petal_width\n",
       "count    150.000000   150.000000    150.000000   150.000000\n",
       "mean       5.843333     3.054000      3.758667     1.198667\n",
       "std        0.828066     0.433594      1.764420     0.763161\n",
       "min        4.300000     2.000000      1.000000     0.100000\n",
       "25%        5.100000     2.800000      1.600000     0.300000\n",
       "50%        5.800000     3.000000      4.350000     1.300000\n",
       "75%        6.400000     3.300000      5.100000     1.800000\n",
       "max        7.900000     4.400000      6.900000     2.500000"
      ]
     },
     "execution_count": 9,
     "metadata": {},
     "output_type": "execute_result"
    }
   ],
   "source": [
    "data.describe()"
   ]
  },
  {
   "cell_type": "code",
   "execution_count": 13,
   "metadata": {},
   "outputs": [
    {
     "data": {
      "text/plain": [
       "array(['Iris-setosa', 'Iris-versicolor', 'Iris-virginica'], dtype=object)"
      ]
     },
     "execution_count": 13,
     "metadata": {},
     "output_type": "execute_result"
    }
   ],
   "source": [
    "data['species'].unique()"
   ]
  },
  {
   "cell_type": "code",
   "execution_count": 60,
   "metadata": {},
   "outputs": [],
   "source": [
    "dataSetosa=data[data['species']=='Iris-setosa']\n",
    "dataVersicolor=data[data['species']=='Iris-versicolor']\n",
    "dataVirginica=data[data['species']=='Iris-virginica']\n",
    "datasets =[dataSetosa,dataVersicolor,dataVirginica]"
   ]
  },
  {
   "cell_type": "code",
   "execution_count": 76,
   "metadata": {},
   "outputs": [
    {
     "data": {
      "text/html": [
       "<div>\n",
       "<style scoped>\n",
       "    .dataframe tbody tr th:only-of-type {\n",
       "        vertical-align: middle;\n",
       "    }\n",
       "\n",
       "    .dataframe tbody tr th {\n",
       "        vertical-align: top;\n",
       "    }\n",
       "\n",
       "    .dataframe thead th {\n",
       "        text-align: right;\n",
       "    }\n",
       "</style>\n",
       "<table border=\"1\" class=\"dataframe\">\n",
       "  <thead>\n",
       "    <tr style=\"text-align: right;\">\n",
       "      <th></th>\n",
       "      <th>sepal_length</th>\n",
       "      <th>sepal_width</th>\n",
       "      <th>petal_length</th>\n",
       "      <th>petal_width</th>\n",
       "    </tr>\n",
       "    <tr>\n",
       "      <th>species</th>\n",
       "      <th></th>\n",
       "      <th></th>\n",
       "      <th></th>\n",
       "      <th></th>\n",
       "    </tr>\n",
       "  </thead>\n",
       "  <tbody>\n",
       "    <tr>\n",
       "      <th>Iris-setosa</th>\n",
       "      <td>5.006</td>\n",
       "      <td>3.418</td>\n",
       "      <td>1.464</td>\n",
       "      <td>0.244</td>\n",
       "    </tr>\n",
       "    <tr>\n",
       "      <th>Iris-versicolor</th>\n",
       "      <td>5.936</td>\n",
       "      <td>2.770</td>\n",
       "      <td>4.260</td>\n",
       "      <td>1.326</td>\n",
       "    </tr>\n",
       "    <tr>\n",
       "      <th>Iris-virginica</th>\n",
       "      <td>6.588</td>\n",
       "      <td>2.974</td>\n",
       "      <td>5.552</td>\n",
       "      <td>2.026</td>\n",
       "    </tr>\n",
       "  </tbody>\n",
       "</table>\n",
       "</div>"
      ],
      "text/plain": [
       "                 sepal_length  sepal_width  petal_length  petal_width\n",
       "species                                                              \n",
       "Iris-setosa             5.006        3.418         1.464        0.244\n",
       "Iris-versicolor         5.936        2.770         4.260        1.326\n",
       "Iris-virginica          6.588        2.974         5.552        2.026"
      ]
     },
     "execution_count": 76,
     "metadata": {},
     "output_type": "execute_result"
    }
   ],
   "source": [
    "data.groupby('species').mean()"
   ]
  },
  {
   "cell_type": "code",
   "execution_count": 77,
   "metadata": {},
   "outputs": [
    {
     "data": {
      "text/html": [
       "<div>\n",
       "<style scoped>\n",
       "    .dataframe tbody tr th:only-of-type {\n",
       "        vertical-align: middle;\n",
       "    }\n",
       "\n",
       "    .dataframe tbody tr th {\n",
       "        vertical-align: top;\n",
       "    }\n",
       "\n",
       "    .dataframe thead th {\n",
       "        text-align: right;\n",
       "    }\n",
       "</style>\n",
       "<table border=\"1\" class=\"dataframe\">\n",
       "  <thead>\n",
       "    <tr style=\"text-align: right;\">\n",
       "      <th></th>\n",
       "      <th>sepal_length</th>\n",
       "      <th>sepal_width</th>\n",
       "      <th>petal_length</th>\n",
       "      <th>petal_width</th>\n",
       "    </tr>\n",
       "    <tr>\n",
       "      <th>species</th>\n",
       "      <th></th>\n",
       "      <th></th>\n",
       "      <th></th>\n",
       "      <th></th>\n",
       "    </tr>\n",
       "  </thead>\n",
       "  <tbody>\n",
       "    <tr>\n",
       "      <th>Iris-setosa</th>\n",
       "      <td>0.352490</td>\n",
       "      <td>0.381024</td>\n",
       "      <td>0.173511</td>\n",
       "      <td>0.107210</td>\n",
       "    </tr>\n",
       "    <tr>\n",
       "      <th>Iris-versicolor</th>\n",
       "      <td>0.516171</td>\n",
       "      <td>0.313798</td>\n",
       "      <td>0.469911</td>\n",
       "      <td>0.197753</td>\n",
       "    </tr>\n",
       "    <tr>\n",
       "      <th>Iris-virginica</th>\n",
       "      <td>0.635880</td>\n",
       "      <td>0.322497</td>\n",
       "      <td>0.551895</td>\n",
       "      <td>0.274650</td>\n",
       "    </tr>\n",
       "  </tbody>\n",
       "</table>\n",
       "</div>"
      ],
      "text/plain": [
       "                 sepal_length  sepal_width  petal_length  petal_width\n",
       "species                                                              \n",
       "Iris-setosa          0.352490     0.381024      0.173511     0.107210\n",
       "Iris-versicolor      0.516171     0.313798      0.469911     0.197753\n",
       "Iris-virginica       0.635880     0.322497      0.551895     0.274650"
      ]
     },
     "execution_count": 77,
     "metadata": {},
     "output_type": "execute_result"
    }
   ],
   "source": [
    "data.groupby('species').std()"
   ]
  },
  {
   "cell_type": "code",
   "execution_count": 63,
   "metadata": {},
   "outputs": [],
   "source": [
    "def plotDatasets(datasets, dataSetsLabels, columnsToPlot=None, xLabel='x', yLabel='y', ):\n",
    "  \"\"\"\n",
    "    Args:\n",
    "      columnsToPlot(list): list of numbers corresponding to columns that should be plotted.\n",
    "                           e.g. if we want to plot 3rd column  vs 4th column columnsToPlot should be\n",
    "                           a list [2,3]. By default it is 1rst vs 2nd so [0,1]\n",
    "\n",
    "  \"\"\"\n",
    "  colors = ['red','green','blue'] \n",
    "  if not columnsToPlot:\n",
    "    columnsToPlot = [0, 1]\n",
    "  for d, dlabel, color in zip(datasets, dataSetsLabels, colors):\n",
    "    xdata = d.iloc[:, columnsToPlot[0]]\n",
    "    ydata = d.iloc[:, columnsToPlot[1]]\n",
    "    plt.scatter(xdata, ydata, label=dlabel, color = color)\n",
    "    plt.xlabel(xLabel)\n",
    "    plt.ylabel(yLabel)\n",
    "  plt.legend()\n",
    "  plt.show()\n",
    "  # plt.savefig('plot.png') #save figure to file"
   ]
  },
  {
   "cell_type": "code",
   "execution_count": 65,
   "metadata": {},
   "outputs": [],
   "source": [
    "dLabels = ['Iris-setosa', 'Iris-versicolor', 'Iris-virginica']"
   ]
  },
  {
   "cell_type": "code",
   "execution_count": 66,
   "metadata": {},
   "outputs": [
    {
     "data": {
      "image/png": "[encoded data removed]",
      "text/plain": [
       "<Figure size 432x288 with 1 Axes>"
      ]
     },
     "metadata": {
      "needs_background": "light"
     },
     "output_type": "display_data"
    }
   ],
   "source": [
    "plotDatasets(datasets, dLabels, [0, 1], 'sepal_length', 'sepal_width')"
   ]
  },
  {
   "cell_type": "code",
   "execution_count": 67,
   "metadata": {},
   "outputs": [
    {
     "data": {
      "image/png": "[encoded data removed]",
      "text/plain": [
       "<Figure size 432x288 with 1 Axes>"
      ]
     },
     "metadata": {
      "needs_background": "light"
     },
     "output_type": "display_data"
    }
   ],
   "source": [
    "plotDatasets(datasets, dLabels, [2, 3], 'petal_length', 'petal_width')"
   ]
  },
  {
   "cell_type": "code",
   "execution_count": 94,
   "metadata": {},
   "outputs": [],
   "source": [
    "def distance(x,y):\n",
    "    return -1"
   ]
  },
  {
   "cell_type": "code",
   "execution_count": 163,
   "metadata": {},
   "outputs": [],
   "source": [
    "from operator import itemgetter\n",
    "\n",
    "def getNeighbours(x, Xtrain, Ytrain, metric=distance):\n",
    "  \"\"\"\n",
    "    Function should return neighbours of x, sorted by distance from x. \n",
    "    Xtrain and Ytrain form the training set e.g. Xtrain= [[0,1], [10,10]] Y=[0,1]\n",
    "    can be interpreted in the following way: we have two points in the feature space: [0,1] and [10,10]\n",
    "    First point belongs to the class 0 and the second to the class 1.\n",
    "\n",
    "    In order to sort your results by distance one can use sorted construct.\n",
    "    E.g. if we have a list of elements each of elements being the list with 2 elements, then we can sort the main list using e.g. the second element of every object:\n",
    "    testList =[[0,1], [3,0], [2,-1]]   \n",
    "    resultList = sorted(testList, key = itemgetter(1))  # 1 means second element of every \n",
    "    object on the list\n",
    "    We will end up with: [[2,-1], [3,0], [0,1]]\n",
    "\n",
    "    Args: \n",
    "      x(list): list of features(numbers) which represents a point in the feature space with respect to which we calculate the distance.\n",
    "      Xtrain(list): of feature vectors which form our training sample e.g. [[0,1], [10,10]] -> two points [0,1] and [10,10] with two features each\n",
    "      Ytrain(list): of class labels which assing given feature vector (point) to given class e.g. [0,1] the first point belongs to class 0 and the second to 1\n",
    "      metric(function): that calculates distance between two points from the feature space.\n",
    "  \"\"\"\n",
    "  return (-1, [0, 0], 0)"
   ]
  },
  {
   "cell_type": "code",
   "execution_count": 164,
   "metadata": {},
   "outputs": [],
   "source": [
    "def getKNNeighbours(neighbours, k):\n",
    "  \"\"\"\n",
    "    Function should return k nearest neighbours assuming that neighbours are already sorted by distance.\n",
    "\n",
    "    Args:\n",
    "      neighbours(list): neighbours sorted by distance e.g. [[1, [2,0],1],  [5, [2,0],1]],\n",
    "                        where [5,[2,0],1] -> distance 5, closest feature point [2,0] which belongs to the class 1\n",
    "      k(integer): number of neighbours to return\n",
    "    Returns:\n",
    "      list of k nearest neighbours assuming that neighbours are already sorted by distance.\n",
    "  \"\"\"\n",
    "  return [-1, [0, 0], 0]\n"
   ]
  },
  {
   "cell_type": "code",
   "execution_count": 177,
   "metadata": {},
   "outputs": [],
   "source": [
    "def majorityVote(neighbours):\n",
    "  \"\"\"\n",
    "    Args:\n",
    "      neighbours(list): neighbours sorted by distance e.g. [[1, [2,0],1],  [5, [2,0],1]],\n",
    "                        where [5,[2,0],1] -> distance 5, closest feature point [2,0] which belongs to the class 1\n",
    "    Returns:\n",
    "      number: being the average of class labels  \n",
    "  \"\"\"\n",
    "  return -1."
   ]
  },
  {
   "cell_type": "code",
   "execution_count": 178,
   "metadata": {},
   "outputs": [],
   "source": [
    "def predict(x, Xtrain, Ytrain, k):\n",
    "  \"\"\"\n",
    "    Args:\n",
    "      x(list): feature point that should be classify\n",
    "      Xtrain(list): of feature vectors which form our training sample e.g. [[0,1], [10,10]] -> two points [0,1] and [10,10] with two features each\n",
    "      Ytrain(list): of class labels which assing given feature vector (point) to given class e.g. [0,1] the first point belongs to class 0 and the second to 1\n",
    "    Returns:\n",
    "     int:  prediction\n",
    "  \"\"\"\n",
    "  return -1\n",
    "\n",
    "\n",
    "def predictList(xObjects, Xtrain, Ytrain, k):\n",
    "  \"\"\"\n",
    "    Args:\n",
    "      xObjects(list): list of feature points that should be classify e.g. [[1,0], [2,2]] -> two points with 2 feature each\n",
    "      Xtrain(list): of feature vectors which form our training sample e.g. [[0,1], [10,10]] -> two points [0,1] and [10,10] with two features each\n",
    "      Ytrain(list): of class labels which assing given feature vector (point) to given class e.g. [0,1] the first point belongs to class 0 and the second to 1\n",
    "    Returns:\n",
    "     list:  list of int corresponding to predictions\n",
    "  \"\"\"\n",
    "  fakePredictions = [0] * len(xObjects)\n",
    "  return fakePredictions"
   ]
  },
  {
   "cell_type": "code",
   "execution_count": 187,
   "metadata": {},
   "outputs": [],
   "source": [
    "def meanSquaredError(v, w):\n",
    "  \"\"\"\n",
    "    Args:\n",
    "      v(list): list of numbers\n",
    "      w(list): list of numbers\n",
    "    Returns:\n",
    "     float: mean squared error\n",
    "  \"\"\"\n",
    "  return -1."
   ]
  },
  {
   "cell_type": "code",
   "execution_count": 188,
   "metadata": {},
   "outputs": [],
   "source": [
    "def plotErrors(x, train,valid):\n",
    "  plt.plot(x, train, label='training error')\n",
    "  plt.plot(x, valid, label='test error')\n",
    "  plt.xlabel('k')\n",
    "  plt.legend()\n",
    "  plt.show()\n",
    "  #plt.savefig('errors.png') #save figure to file"
   ]
  },
  {
   "cell_type": "code",
   "execution_count": 189,
   "metadata": {},
   "outputs": [],
   "source": [
    "def divideData(dataSet, fraction):\n",
    "  nbTotal = len(ddataSet.index)\n",
    "  nbTrain = int(nbTotal*fraction)\n",
    "  return (dataSet.iloc[:nbTrain,:], dataSet.iloc[nbTrain:,:])"
   ]
  },
  {
   "cell_type": "code",
   "execution_count": 179,
   "metadata": {},
   "outputs": [],
   "source": [
    "def runTests():\n",
    "  # some tests of distance function\n",
    "  np.testing.assert_almost_equal(distance([1, 1], [1, 1]), 0)\n",
    "  np.testing.assert_almost_equal(distance([2, 0, 1], [5, 0, 1]), 3)\n",
    "  np.testing.assert_almost_equal(distance([0, 0], [2, 2]), np.sqrt(8))\n",
    "\n",
    "  # some tests of getNeighbours function\n",
    "  Xtrain = [[2, 0], [0, 0],  [1, 0]]\n",
    "  Ytrain = [1, 0, 1]\n",
    "  x = [-1, 0]  # with respect to x we calculate the distance\n",
    "  result = getNeighbours(x, Xtrain, Ytrain)\n",
    "  expected = ((1, [0, 0], 0), (2, [1, 0], 1), (3, [2, 0], 1))\n",
    "  np.testing.assert_equal(result, expected)\n",
    "\n",
    "  # some tests of getKNNeighbours function\n",
    "  data = [[1, [0, 0], 0], [2, [1, 0], 1], [3, [2, 0], 1]]\n",
    "  np.testing.assert_equal(getKNNeighbours(data,  k=1), [[1, [0, 0], 0]])\n",
    "  np.testing.assert_equal(getKNNeighbours(data,  k=2), [\n",
    "                          [1, [0, 0], 0], [2, [1, 0], 1]])\n",
    "\n",
    "  # some tests of majorityVote function\n",
    "  data = [[1, [0, 0], 0], [2, [1, 0], 1], [3, [2, 0], 1]]\n",
    "  np.testing.assert_equal(majorityVote(data), 2./3.)\n",
    "\n",
    "  # some tests of predict function\n",
    "  xTrain = [[0, 0], [1, 0], [2, 0]]\n",
    "  yTrain = [0, 1, 1]\n",
    "  x = [-1, 0]\n",
    "  k = 1\n",
    "  np.testing.assert_almost_equal(predict(x, xTrain, yTrain, k), 0)\n",
    "  k = 2\n",
    "  np.testing.assert_almost_equal(predict(x, xTrain, yTrain, k), 1)\n",
    "  k = 3\n",
    "  np.testing.assert_almost_equal(predict(x, xTrain, yTrain, k), 1)\n",
    "\n",
    "  # some tests of predictList function\n",
    "  xTrain = [[0, 0], [1, 0], [2, 0]]\n",
    "  yTrain = [0, 1, 1]\n",
    "  xToClassify = [[-1, 0], [3, 0]]\n",
    "  k = 1\n",
    "  np.testing.assert_almost_equal(predictList(xToClassify, xTrain, yTrain, k), [0., 1.])"
   ]
  },
  {
   "cell_type": "code",
   "execution_count": 180,
   "metadata": {},
   "outputs": [],
   "source": [
    "runTests()"
   ]
  },
  {
   "cell_type": "code",
   "execution_count": 185,
   "metadata": {},
   "outputs": [],
   "source": [
    "class kNN(object):\n",
    "    def __init__(self, n_neighbours):\n",
    "        self.n_neighbours = n_neighbours\n",
    "        self.Xtrain = []\n",
    "        self.Ytrain = []\n",
    "    def fit(self, x,y):\n",
    "        self.Xtrain = x\n",
    "        self.Ytrain = y\n",
    "    def predict(self, Xobjects):\n",
    "        return predictList(Xobjects,self.Xtrain, self.Ytrain, self.n_neighbours)"
   ]
  },
  {
   "cell_type": "code",
   "execution_count": 186,
   "metadata": {},
   "outputs": [],
   "source": [
    "xTrain = [[0, 0], [1, 0], [2, 0]]\n",
    "yTrain = [0, 1, 1]\n",
    "xToClassify = [[-1, 0], [3, 0]]\n",
    "k = 1\n",
    "model = kNN(k)\n",
    "model.fit(xTrain,yTrain)\n",
    "np.testing.assert_almost_equal(model.predict(xToClassify), [0., 1.])"
   ]
  },
  {
   "cell_type": "code",
   "execution_count": null,
   "metadata": {},
   "outputs": [],
   "source": [
    "classLabels = ['Iris-setosa', 'Iris-versicolor', 'Iris-virginica']\n",
    "columnLabels = ['sepal_length', 'sepal_width',\n",
    "                  'petal_length', 'petal_width', 'species']\n",
    "# First let's try  Iris-setosa vs Iris-versicolor, two features sepal-length vs sepal-width\n",
    "# we get rid of the third class Iris-viriginica\n",
    "dataWithoutVirignica = data[data['species'] != 'Iris-virginica']\n",
    "\n",
    "def toNumeric(row):\n",
    "    if row.species == 'Iris-versicolor':\n",
    "        return 0\n",
    "    else:\n",
    "        return 1\n",
    "\n",
    "dataWithoutVirignica['class']=dataWithoutVirignica.apply(lambda row:toNumeric(row),axis=1)\n",
    "  \n",
    "# we leave only sepal_length, sepal_width and class label columns\n",
    "columnsToLeave=['sepal_length', 'sepal_width', 'class']  \n",
    "dataSepal = dataWithoutVirignica[columnsToLeave]  "
   ]
  },
  {
   "cell_type": "code",
   "execution_count": null,
   "metadata": {},
   "outputs": [],
   "source": [
    "fraction = 0.8\n",
    "# we  divide the content into the training and validation set\n",
    "# we also randomly shuffle the content\n",
    "trainingSet=dataSepal.sample(frac=fraction)\n",
    "validationSet=dataSepal.drop(trainingSet.index)\n",
    "xTrain = trainingSet.iloc[:, 1:].values.tolist()\n",
    "yTrain = trainingSet.iloc[:, 0].values.tolist()\n",
    "xValid = validationSet.iloc[:, 1:].values.tolist()\n",
    "yValid = validationSet.iloc[:, 0].values.tolist()"
   ]
  },
  {
   "cell_type": "code",
   "execution_count": null,
   "metadata": {},
   "outputs": [],
   "source": [
    "if fraction < 1:\n",
    "    #we calculate training error and validation error\n",
    "    trainError=[]\n",
    "    validError=[]\n",
    "    kRange =range(1,80)\n",
    "    trainPredictions = predictList(xTrain, xTrain, yTrain, 1)\n",
    "    for k in kRange:\n",
    "      trainPredictions = predictList(xTrain, xTrain, yTrain, k)\n",
    "      validationPredictions = predictList(xValid, xTrain, yTrain, k)\n",
    "      trainError.append(meanSquaredError(trainPredictions,yTrain))\n",
    "      validError.append(meanSquaredError(validationPredictions,yValid)) "
   ]
  },
  {
   "cell_type": "code",
   "execution_count": null,
   "metadata": {},
   "outputs": [],
   "source": [
    "plotErrors(kRange, trainError,validError)"
   ]
  }
 ],
 "metadata": {
  "kernelspec": {
   "display_name": "Python 3",
   "language": "python",
   "name": "python3"
  },
  "language_info": {
   "codemirror_mode": {
    "name": "ipython",
    "version": 3
   },
   "file_extension": ".py",
   "mimetype": "text/x-python",
   "name": "python",
   "nbconvert_exporter": "python",
   "pygments_lexer": "ipython3",
   "version": "3.5.2"
  }
 },
 "nbformat": 4,
 "nbformat_minor": 2
}
